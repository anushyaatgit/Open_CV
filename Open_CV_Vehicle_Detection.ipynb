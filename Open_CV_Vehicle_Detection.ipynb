{
 "cells": [
  {
   "cell_type": "code",
   "execution_count": 1,
   "id": "171b5289",
   "metadata": {},
   "outputs": [],
   "source": [
    "import cv2"
   ]
  },
  {
   "cell_type": "code",
   "execution_count": 3,
   "id": "0beb204c",
   "metadata": {},
   "outputs": [],
   "source": [
    "vid = cv2.VideoCapture(r\"C:\\Users\\Lenovo\\Downloads\\video.avi\")"
   ]
  },
  {
   "cell_type": "code",
   "execution_count": 4,
   "id": "4edc8da0",
   "metadata": {},
   "outputs": [],
   "source": [
    "car_cascade = cv2.CascadeClassifier(r\"C:\\Users\\Lenovo\\Downloads\\cars.xml\")"
   ]
  },
  {
   "cell_type": "code",
   "execution_count": 5,
   "id": "9a998a6c",
   "metadata": {},
   "outputs": [],
   "source": [
    "while True:\n",
    "    ret, frames = vid.read()\n",
    "    \n",
    "    if frames is not None and frames.shape[0] > 0 and frames.shape[1] >0:\n",
    "        gray = cv2.cvtColor(frames, cv2.COLOR_BGR2GRAY)\n",
    "        cars = car_cascade.detectMultiScale(gray, 1.1, 1)\n",
    "        for (x,y,w,h) in cars:\n",
    "            cv2.rectangle(frames, (x,y), (x+w, y+h), (0,0, 255), 2)\n",
    "            cv2.imshow('video2', frames)\n",
    "    if cv2.waitKey(1) & 0xFF == 27:\n",
    "        break\n",
    "            \n",
    "vid.release()\n",
    "cv2.destroyAllWindows()"
   ]
  },
  {
   "cell_type": "code",
   "execution_count": null,
   "id": "540d5f5b",
   "metadata": {},
   "outputs": [],
   "source": []
  }
 ],
 "metadata": {
  "kernelspec": {
   "display_name": "Python 3 (ipykernel)",
   "language": "python",
   "name": "python3"
  },
  "language_info": {
   "codemirror_mode": {
    "name": "ipython",
    "version": 3
   },
   "file_extension": ".py",
   "mimetype": "text/x-python",
   "name": "python",
   "nbconvert_exporter": "python",
   "pygments_lexer": "ipython3",
   "version": "3.11.4"
  }
 },
 "nbformat": 4,
 "nbformat_minor": 5
}
